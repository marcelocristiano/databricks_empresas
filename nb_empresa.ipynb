{
 "cells": [
  {
   "cell_type": "code",
   "execution_count": 0,
   "metadata": {
    "application/vnd.databricks.v1+cell": {
     "cellMetadata": {
      "byteLimit": 2048000,
      "rowLimit": 10000
     },
     "inputWidgets": {},
     "nuid": "563c7ec6-cfec-4ee9-a96c-bf4a295e02aa",
     "showTitle": true,
     "title": "Instala bibliotecas necessárias"
    },
    "jupyter": {
     "outputs_hidden": true
    }
   },
   "outputs": [
    {
     "output_type": "stream",
     "name": "stdout",
     "output_type": "stream",
     "text": [
      "Collecting openpyxl\r\n  Downloading openpyxl-3.1.3-py2.py3-none-any.whl (251 kB)\r\n\u001B[?25l\r\u001B[K     |█▎                              | 10 kB 3.1 MB/s eta 0:00:01\r\u001B[K     |██▋                             | 20 kB 5.7 MB/s eta 0:00:01\r\u001B[K     |████                            | 30 kB 8.1 MB/s eta 0:00:01\r\u001B[K     |█████▏                          | 40 kB 10.2 MB/s eta 0:00:01\r\u001B[K     |██████▌                         | 51 kB 4.4 MB/s eta 0:00:01\r\u001B[K     |███████▉                        | 61 kB 5.2 MB/s eta 0:00:01\r\u001B[K     |█████████▏                      | 71 kB 5.8 MB/s eta 0:00:01\r\u001B[K     |██████████▍                     | 81 kB 6.5 MB/s eta 0:00:01\r\u001B[K     |███████████▊                    | 92 kB 6.9 MB/s eta 0:00:01\r\u001B[K     |█████████████                   | 102 kB 5.5 MB/s eta 0:00:01\r\u001B[K     |██████████████▍                 | 112 kB 5.5 MB/s eta 0:00:01\r\u001B[K     |███████████████▋                | 122 kB 5.5 MB/s eta 0:00:01\r\u001B[K     |█████████████████               | 133 kB 5.5 MB/s eta 0:00:01\r\u001B[K     |██████████████████▎             | 143 kB 5.5 MB/s eta 0:00:01\r\u001B[K     |███████████████████▋            | 153 kB 5.5 MB/s eta 0:00:01\r\u001B[K     |████████████████████▉           | 163 kB 5.5 MB/s eta 0:00:01\r\u001B[K     |██████████████████████▏         | 174 kB 5.5 MB/s eta 0:00:01\r\u001B[K     |███████████████████████▌        | 184 kB 5.5 MB/s eta 0:00:01\r\u001B[K     |████████████████████████▊       | 194 kB 5.5 MB/s eta 0:00:01\r\u001B[K     |██████████████████████████      | 204 kB 5.5 MB/s eta 0:00:01\r\u001B[K     |███████████████████████████▍    | 215 kB 5.5 MB/s eta 0:00:01\r\u001B[K     |████████████████████████████▊   | 225 kB 5.5 MB/s eta 0:00:01\r\u001B[K     |██████████████████████████████  | 235 kB 5.5 MB/s eta 0:00:01\r\u001B[K     |███████████████████████████████▎| 245 kB 5.5 MB/s eta 0:00:01\r\u001B[K     |████████████████████████████████| 251 kB 5.5 MB/s \r\n\u001B[?25hCollecting et-xmlfile\r\n  Downloading et_xmlfile-1.1.0-py3-none-any.whl (4.7 kB)\r\nInstalling collected packages: et-xmlfile, openpyxl\r\nSuccessfully installed et-xmlfile-1.1.0 openpyxl-3.1.3\r\n\u001B[33mWARNING: You are using pip version 21.2.4; however, version 24.0 is available.\r\nYou should consider upgrading via the '/local_disk0/.ephemeral_nfs/envs/pythonEnv-022d3df0-e4fe-49bd-b94e-af19b3383f21/bin/python -m pip install --upgrade pip' command.\u001B[0m\r\n"
     ]
    }
   ],
   "source": [
    "!pip install openpyxl"
   ]
  },
  {
   "cell_type": "code",
   "execution_count": 0,
   "metadata": {
    "application/vnd.databricks.v1+cell": {
     "cellMetadata": {
      "byteLimit": 2048000,
      "rowLimit": 10000
     },
     "inputWidgets": {},
     "nuid": "9d7a2126-b836-4e24-a333-110291a44715",
     "showTitle": true,
     "title": "Define o caminho do arquivo"
    }
   },
   "outputs": [],
   "source": [
    "caminho_arquivo_bronze = \"dbfs:/FileStore/stdevestudo/bronze/empresa/empresas.xlsx\""
   ]
  },
  {
   "cell_type": "code",
   "execution_count": 0,
   "metadata": {
    "application/vnd.databricks.v1+cell": {
     "cellMetadata": {
      "byteLimit": 2048000,
      "rowLimit": 10000
     },
     "inputWidgets": {},
     "nuid": "e8a8e752-bf9b-443c-aded-b1fe03072311",
     "showTitle": true,
     "title": "Importa bibliotecas"
    }
   },
   "outputs": [],
   "source": [
    "from pyspark.pandas import read_excel\n",
    "from pyspark.sql.functions import *\n",
    "from pyspark.sql.types import *"
   ]
  },
  {
   "cell_type": "code",
   "execution_count": 0,
   "metadata": {
    "application/vnd.databricks.v1+cell": {
     "cellMetadata": {
      "byteLimit": 2048000,
      "rowLimit": 10000
     },
     "inputWidgets": {},
     "nuid": "98bd51bf-a0e6-495f-b88e-1df1f15a3e2c",
     "showTitle": true,
     "title": "Ler arquivo excel"
    },
    "jupyter": {
     "outputs_hidden": true
    }
   },
   "outputs": [
    {
     "output_type": "stream",
     "name": "stderr",
     "output_type": "stream",
     "text": [
      "/databricks/spark/python/pyspark/pandas/namespace.py:1126: FutureWarning: convert_float is deprecated and will be removed in a future version.\n  return pd.read_excel(\n/databricks/spark/python/pyspark/pandas/namespace.py:1126: FutureWarning: The squeeze argument has been deprecated and will be removed in a future version. Append .squeeze(\"columns\") to the call to squeeze.\n\n\n  return pd.read_excel(\n"
     ]
    }
   ],
   "source": [
    "df = read_excel(caminho_arquivo_bronze, dtype=str, skiprows=2)\n",
    "df = df.to_spark()"
   ]
  },
  {
   "cell_type": "code",
   "execution_count": 0,
   "metadata": {
    "application/vnd.databricks.v1+cell": {
     "cellMetadata": {
      "byteLimit": 2048000,
      "rowLimit": 10000
     },
     "inputWidgets": {},
     "nuid": "cc83b956-20a3-46cc-bc32-33556718e4e4",
     "showTitle": false,
     "title": ""
    },
    "jupyter": {
     "outputs_hidden": true
    }
   },
   "outputs": [
    {
     "output_type": "display_data",
     "data": {
      "text/html": [
       "<style scoped>\n",
       "  .table-result-container {\n",
       "    max-height: 300px;\n",
       "    overflow: auto;\n",
       "  }\n",
       "  table, th, td {\n",
       "    border: 1px solid black;\n",
       "    border-collapse: collapse;\n",
       "  }\n",
       "  th, td {\n",
       "    padding: 5px;\n",
       "  }\n",
       "  th {\n",
       "    text-align: left;\n",
       "  }\n",
       "</style><div class='table-result-container'><table class='table-result'><thead style='background-color: white'><tr><th>Unnamed: 0</th><th>Empresa A</th><th>Unnamed: 2</th><th>Unnamed: 3</th><th>Empresa B</th><th>Unnamed: 5</th><th>Unnamed: 6</th><th>Empresa C</th><th>Unnamed: 8</th><th>Unnamed: 9</th><th>Empresa D</th><th>Unnamed: 11</th><th>Unnamed: 12</th></tr></thead><tbody><tr><td>null</td><td>Dado A</td><td>Dado B</td><td>Dado C</td><td>Dado A</td><td>Dado B</td><td>Dado C</td><td>Dado A</td><td>Dado B</td><td>Dado C</td><td>Dado A</td><td>Dado B</td><td>Dado C</td></tr><tr><td>2024-01-01 00:00:00</td><td>100</td><td>200</td><td>300</td><td>400</td><td>500</td><td>600</td><td>700</td><td>800</td><td>900</td><td>1000</td><td>1100</td><td>1200</td></tr><tr><td>2024-01-02 00:00:00</td><td>100</td><td>200</td><td>300</td><td>400</td><td>500</td><td>600</td><td>700</td><td>800</td><td>900</td><td>1000</td><td>1100</td><td>1200</td></tr><tr><td>2024-01-03 00:00:00</td><td>100</td><td>200</td><td>300</td><td>400</td><td>500</td><td>600</td><td>700</td><td>800</td><td>900</td><td>1000</td><td>1100</td><td>1200</td></tr><tr><td>2024-01-04 00:00:00</td><td>100</td><td>200</td><td>300</td><td>400</td><td>500</td><td>600</td><td>700</td><td>800</td><td>900</td><td>1000</td><td>1100</td><td>1200</td></tr><tr><td>2024-01-05 00:00:00</td><td>100</td><td>200</td><td>300</td><td>400</td><td>500</td><td>600</td><td>700</td><td>800</td><td>900</td><td>1000</td><td>1100</td><td>1200</td></tr><tr><td>2024-01-06 00:00:00</td><td>100</td><td>200</td><td>300</td><td>400</td><td>500</td><td>600</td><td>700</td><td>800</td><td>900</td><td>1000</td><td>1100</td><td>1200</td></tr><tr><td>2024-01-07 00:00:00</td><td>100</td><td>200</td><td>300</td><td>400</td><td>500</td><td>600</td><td>700</td><td>800</td><td>900</td><td>1000</td><td>1100</td><td>1200</td></tr><tr><td>2024-01-08 00:00:00</td><td>100</td><td>200</td><td>300</td><td>400</td><td>500</td><td>600</td><td>700</td><td>800</td><td>900</td><td>1000</td><td>1100</td><td>1200</td></tr><tr><td>2024-01-09 00:00:00</td><td>100</td><td>200</td><td>300</td><td>400</td><td>500</td><td>600</td><td>700</td><td>800</td><td>900</td><td>1000</td><td>1100</td><td>1200</td></tr><tr><td>2024-01-10 00:00:00</td><td>100</td><td>200</td><td>300</td><td>400</td><td>500</td><td>600</td><td>700</td><td>800</td><td>900</td><td>1000</td><td>1100</td><td>1200</td></tr><tr><td>2024-01-11 00:00:00</td><td>100</td><td>200</td><td>300</td><td>400</td><td>500</td><td>600</td><td>700</td><td>800</td><td>900</td><td>1000</td><td>1100</td><td>1200</td></tr></tbody></table></div>"
      ]
     },
     "metadata": {
      "application/vnd.databricks.v1+output": {
       "addedWidgets": {},
       "aggData": [],
       "aggError": "",
       "aggOverflow": false,
       "aggSchema": [],
       "aggSeriesLimitReached": false,
       "aggType": "",
       "arguments": {},
       "columnCustomDisplayInfos": {},
       "data": [
        [
         null,
         "Dado A",
         "Dado B",
         "Dado C",
         "Dado A",
         "Dado B",
         "Dado C",
         "Dado A",
         "Dado B",
         "Dado C",
         "Dado A",
         "Dado B",
         "Dado C"
        ],
        [
         "2024-01-01 00:00:00",
         "100",
         "200",
         "300",
         "400",
         "500",
         "600",
         "700",
         "800",
         "900",
         "1000",
         "1100",
         "1200"
        ],
        [
         "2024-01-02 00:00:00",
         "100",
         "200",
         "300",
         "400",
         "500",
         "600",
         "700",
         "800",
         "900",
         "1000",
         "1100",
         "1200"
        ],
        [
         "2024-01-03 00:00:00",
         "100",
         "200",
         "300",
         "400",
         "500",
         "600",
         "700",
         "800",
         "900",
         "1000",
         "1100",
         "1200"
        ],
        [
         "2024-01-04 00:00:00",
         "100",
         "200",
         "300",
         "400",
         "500",
         "600",
         "700",
         "800",
         "900",
         "1000",
         "1100",
         "1200"
        ],
        [
         "2024-01-05 00:00:00",
         "100",
         "200",
         "300",
         "400",
         "500",
         "600",
         "700",
         "800",
         "900",
         "1000",
         "1100",
         "1200"
        ],
        [
         "2024-01-06 00:00:00",
         "100",
         "200",
         "300",
         "400",
         "500",
         "600",
         "700",
         "800",
         "900",
         "1000",
         "1100",
         "1200"
        ],
        [
         "2024-01-07 00:00:00",
         "100",
         "200",
         "300",
         "400",
         "500",
         "600",
         "700",
         "800",
         "900",
         "1000",
         "1100",
         "1200"
        ],
        [
         "2024-01-08 00:00:00",
         "100",
         "200",
         "300",
         "400",
         "500",
         "600",
         "700",
         "800",
         "900",
         "1000",
         "1100",
         "1200"
        ],
        [
         "2024-01-09 00:00:00",
         "100",
         "200",
         "300",
         "400",
         "500",
         "600",
         "700",
         "800",
         "900",
         "1000",
         "1100",
         "1200"
        ],
        [
         "2024-01-10 00:00:00",
         "100",
         "200",
         "300",
         "400",
         "500",
         "600",
         "700",
         "800",
         "900",
         "1000",
         "1100",
         "1200"
        ],
        [
         "2024-01-11 00:00:00",
         "100",
         "200",
         "300",
         "400",
         "500",
         "600",
         "700",
         "800",
         "900",
         "1000",
         "1100",
         "1200"
        ]
       ],
       "datasetInfos": [],
       "dbfsResultPath": null,
       "isJsonSchema": true,
       "metadata": {},
       "overflow": false,
       "plotOptions": {
        "customPlotOptions": {},
        "displayType": "table",
        "pivotAggregation": null,
        "pivotColumns": null,
        "xColumns": null,
        "yColumns": null
       },
       "removedWidgets": [],
       "schema": [
        {
         "metadata": "{}",
         "name": "Unnamed: 0",
         "type": "\"string\""
        },
        {
         "metadata": "{}",
         "name": "Empresa A",
         "type": "\"string\""
        },
        {
         "metadata": "{}",
         "name": "Unnamed: 2",
         "type": "\"string\""
        },
        {
         "metadata": "{}",
         "name": "Unnamed: 3",
         "type": "\"string\""
        },
        {
         "metadata": "{}",
         "name": "Empresa B",
         "type": "\"string\""
        },
        {
         "metadata": "{}",
         "name": "Unnamed: 5",
         "type": "\"string\""
        },
        {
         "metadata": "{}",
         "name": "Unnamed: 6",
         "type": "\"string\""
        },
        {
         "metadata": "{}",
         "name": "Empresa C",
         "type": "\"string\""
        },
        {
         "metadata": "{}",
         "name": "Unnamed: 8",
         "type": "\"string\""
        },
        {
         "metadata": "{}",
         "name": "Unnamed: 9",
         "type": "\"string\""
        },
        {
         "metadata": "{}",
         "name": "Empresa D",
         "type": "\"string\""
        },
        {
         "metadata": "{}",
         "name": "Unnamed: 11",
         "type": "\"string\""
        },
        {
         "metadata": "{}",
         "name": "Unnamed: 12",
         "type": "\"string\""
        }
       ],
       "type": "table"
      }
     },
     "output_type": "display_data"
    }
   ],
   "source": [
    "display(df)"
   ]
  },
  {
   "cell_type": "code",
   "execution_count": 0,
   "metadata": {
    "application/vnd.databricks.v1+cell": {
     "cellMetadata": {
      "byteLimit": 2048000,
      "rowLimit": 10000
     },
     "inputWidgets": {},
     "nuid": "9eb26824-2704-4e6e-9675-d029e27976b9",
     "showTitle": true,
     "title": "Defini o esquema"
    },
    "jupyter": {
     "outputs_hidden": true
    }
   },
   "outputs": [],
   "source": [
    "# Definir o esquema\n",
    "schema = StructType([\n",
    "    StructField(\"data\", DateType(), True),      # Coluna \"data\" do tipo DateType\n",
    "    StructField(\"dado_a\", IntegerType(), True), # Coluna \"dado_a\" do tipo IntegerType\n",
    "    StructField(\"dado_b\", IntegerType(), True), # Coluna \"dado_b\" do tipo IntegerType\n",
    "    StructField(\"dado_c\", IntegerType(), True), # Coluna \"dado_c\" do tipo IntegerType\n",
    "    StructField(\"empresa\", StringType(), True)  # Coluna \"empresa\" do tipo StringType\n",
    "])\n",
    "\n",
    "# Criar um DataFrame vazio com o esquema definido\n",
    "df_full = spark.createDataFrame([], schema)"
   ]
  },
  {
   "cell_type": "code",
   "execution_count": 0,
   "metadata": {
    "application/vnd.databricks.v1+cell": {
     "cellMetadata": {
      "byteLimit": 2048000,
      "rowLimit": 10000
     },
     "inputWidgets": {},
     "nuid": "f96b53fc-7236-4a23-abef-b85763c7aa95",
     "showTitle": false,
     "title": ""
    }
   },
   "outputs": [],
   "source": [
    "numeros = list(range(1, 13))\n",
    "\n",
    "lista_indexs = []\n",
    "\n",
    "for i in range(0, len(numeros), 3):\n",
    "    lista_indexs.append([0] + numeros[i:i+3])"
   ]
  },
  {
   "cell_type": "code",
   "execution_count": 0,
   "metadata": {
    "application/vnd.databricks.v1+cell": {
     "cellMetadata": {
      "byteLimit": 2048000,
      "rowLimit": 10000
     },
     "inputWidgets": {},
     "nuid": "4f55ec5d-9db1-4c05-afa6-54c28a08682c",
     "showTitle": false,
     "title": ""
    },
    "jupyter": {
     "outputs_hidden": true
    }
   },
   "outputs": [
    {
     "output_type": "stream",
     "name": "stdout",
     "output_type": "stream",
     "text": [
      "Empresa A\nEmpresa B\nEmpresa C\nEmpresa D\n"
     ]
    }
   ],
   "source": [
    "for index in lista_indexs:\n",
    "    nomes_colunas = [df.columns[i] for i in index]\n",
    "\n",
    "    df_aux = df.select(nomes_colunas)\n",
    "\n",
    "    nome_empresa = df.columns[index[1]]\n",
    "    print(nome_empresa)\n",
    "\n",
    "    df_aux = df_aux.withColumnRenamed(nomes_colunas[0], \"data\")\\\n",
    "        .withColumnRenamed(nomes_colunas[1], \"dado_a\" )\\\n",
    "        .withColumnRenamed(nomes_colunas[2], \"dado_b\" )\\\n",
    "        .withColumnRenamed(nomes_colunas[3], \"dado_c\" )\\\n",
    "        .withColumn(\"empresa\", lit(nome_empresa))\n",
    "\n",
    "    df_aux = df_aux.filter(df_aux.data.isNotNull())\n",
    "\n",
    "    df_full = df_full.union(df_aux)"
   ]
  },
  {
   "cell_type": "code",
   "execution_count": 0,
   "metadata": {
    "application/vnd.databricks.v1+cell": {
     "cellMetadata": {
      "byteLimit": 2048000,
      "rowLimit": 10000
     },
     "inputWidgets": {},
     "nuid": "ae24a383-6159-45fb-9e6c-a988874d7dd9",
     "showTitle": false,
     "title": ""
    },
    "jupyter": {
     "outputs_hidden": true
    }
   },
   "outputs": [],
   "source": [
    "df_full = df_full.select(\n",
    "    \"empresa\",\n",
    "    \"data\",\n",
    "    \"dado_a\",\n",
    "    \"dado_b\",\n",
    "    \"dado_c\"\n",
    ")"
   ]
  },
  {
   "cell_type": "code",
   "execution_count": 0,
   "metadata": {
    "application/vnd.databricks.v1+cell": {
     "cellMetadata": {
      "byteLimit": 2048000,
      "rowLimit": 10000
     },
     "inputWidgets": {},
     "nuid": "bc8e9406-8e17-43a1-b246-d5756d04a28f",
     "showTitle": true,
     "title": "Realiza cast"
    },
    "jupyter": {
     "outputs_hidden": true
    }
   },
   "outputs": [],
   "source": [
    "df_full = df_full.withColumn(\"empresa\", col(\"empresa\").cast(StringType()))\\\n",
    "                    .withColumn(\"data\", date_format(df_full[\"data\"], \"yyyy-MM-dd\"))\\\n",
    "                    .withColumn(\"data\", to_date(\"data\", \"yyyy-MM-dd\"))\\\n",
    "                    .withColumn(\"dado_a\", col(\"dado_a\").cast(IntegerType()))\\\n",
    "                    .withColumn(\"dado_b\", col(\"dado_b\").cast(IntegerType()))\\\n",
    "                    .withColumn(\"dado_c\", col(\"dado_c\").cast(IntegerType()))"
   ]
  },
  {
   "cell_type": "code",
   "execution_count": 0,
   "metadata": {
    "application/vnd.databricks.v1+cell": {
     "cellMetadata": {
      "byteLimit": 2048000,
      "implicitDf": true,
      "rowLimit": 10000
     },
     "inputWidgets": {},
     "nuid": "68eddaee-50c2-4a25-8838-5e62e54bb553",
     "showTitle": true,
     "title": "Cria banco de dados"
    },
    "jupyter": {
     "outputs_hidden": true
    }
   },
   "outputs": [
    {
     "output_type": "display_data",
     "data": {
      "text/html": [
       "<style scoped>\n",
       "  .table-result-container {\n",
       "    max-height: 300px;\n",
       "    overflow: auto;\n",
       "  }\n",
       "  table, th, td {\n",
       "    border: 1px solid black;\n",
       "    border-collapse: collapse;\n",
       "  }\n",
       "  th, td {\n",
       "    padding: 5px;\n",
       "  }\n",
       "  th {\n",
       "    text-align: left;\n",
       "  }\n",
       "</style><div class='table-result-container'><table class='table-result'><thead style='background-color: white'><tr></tr></thead><tbody></tbody></table></div>"
      ]
     },
     "metadata": {
      "application/vnd.databricks.v1+output": {
       "addedWidgets": {},
       "aggData": [],
       "aggError": "",
       "aggOverflow": false,
       "aggSchema": [],
       "aggSeriesLimitReached": false,
       "aggType": "",
       "arguments": {},
       "columnCustomDisplayInfos": {},
       "data": [],
       "datasetInfos": [],
       "dbfsResultPath": null,
       "isJsonSchema": true,
       "metadata": {},
       "overflow": false,
       "plotOptions": {
        "customPlotOptions": {},
        "displayType": "table",
        "pivotAggregation": null,
        "pivotColumns": null,
        "xColumns": null,
        "yColumns": null
       },
       "removedWidgets": [],
       "schema": [],
       "type": "table"
      }
     },
     "output_type": "display_data"
    }
   ],
   "source": [
    "%sql\n",
    "CREATE DATABASE IF NOT EXISTS empresa;"
   ]
  },
  {
   "cell_type": "code",
   "execution_count": 0,
   "metadata": {
    "application/vnd.databricks.v1+cell": {
     "cellMetadata": {
      "byteLimit": 2048000,
      "rowLimit": 10000
     },
     "inputWidgets": {},
     "nuid": "d009bd87-cbb2-4fd3-8115-44b39517eb42",
     "showTitle": true,
     "title": "Salva tabela Delta"
    }
   },
   "outputs": [],
   "source": [
    "df_full.write.format(\"delta\").mode(\"overwrite\").saveAsTable(\"empresa.empresa\")"
   ]
  },
  {
   "cell_type": "code",
   "execution_count": 0,
   "metadata": {
    "application/vnd.databricks.v1+cell": {
     "cellMetadata": {
      "byteLimit": 2048000,
      "implicitDf": true,
      "rowLimit": 10000
     },
     "inputWidgets": {},
     "nuid": "3899cfe6-9f48-4c36-8de3-7152897963f5",
     "showTitle": false,
     "title": ""
    },
    "jupyter": {
     "outputs_hidden": true
    }
   },
   "outputs": [
    {
     "output_type": "display_data",
     "data": {
      "text/html": [
       "<style scoped>\n",
       "  .table-result-container {\n",
       "    max-height: 300px;\n",
       "    overflow: auto;\n",
       "  }\n",
       "  table, th, td {\n",
       "    border: 1px solid black;\n",
       "    border-collapse: collapse;\n",
       "  }\n",
       "  th, td {\n",
       "    padding: 5px;\n",
       "  }\n",
       "  th {\n",
       "    text-align: left;\n",
       "  }\n",
       "</style><div class='table-result-container'><table class='table-result'><thead style='background-color: white'><tr><th>empresa</th><th>data</th><th>dado_a</th><th>dado_b</th><th>dado_c</th></tr></thead><tbody><tr><td>Empresa A</td><td>2024-01-01</td><td>100</td><td>200</td><td>300</td></tr><tr><td>Empresa A</td><td>2024-01-02</td><td>100</td><td>200</td><td>300</td></tr><tr><td>Empresa A</td><td>2024-01-03</td><td>100</td><td>200</td><td>300</td></tr><tr><td>Empresa A</td><td>2024-01-04</td><td>100</td><td>200</td><td>300</td></tr><tr><td>Empresa A</td><td>2024-01-05</td><td>100</td><td>200</td><td>300</td></tr><tr><td>Empresa A</td><td>2024-01-06</td><td>100</td><td>200</td><td>300</td></tr><tr><td>Empresa A</td><td>2024-01-07</td><td>100</td><td>200</td><td>300</td></tr><tr><td>Empresa A</td><td>2024-01-08</td><td>100</td><td>200</td><td>300</td></tr><tr><td>Empresa A</td><td>2024-01-09</td><td>100</td><td>200</td><td>300</td></tr><tr><td>Empresa A</td><td>2024-01-10</td><td>100</td><td>200</td><td>300</td></tr><tr><td>Empresa A</td><td>2024-01-11</td><td>100</td><td>200</td><td>300</td></tr><tr><td>Empresa B</td><td>2024-01-01</td><td>400</td><td>500</td><td>600</td></tr><tr><td>Empresa B</td><td>2024-01-02</td><td>400</td><td>500</td><td>600</td></tr><tr><td>Empresa B</td><td>2024-01-03</td><td>400</td><td>500</td><td>600</td></tr><tr><td>Empresa B</td><td>2024-01-04</td><td>400</td><td>500</td><td>600</td></tr><tr><td>Empresa B</td><td>2024-01-05</td><td>400</td><td>500</td><td>600</td></tr><tr><td>Empresa B</td><td>2024-01-06</td><td>400</td><td>500</td><td>600</td></tr><tr><td>Empresa B</td><td>2024-01-07</td><td>400</td><td>500</td><td>600</td></tr><tr><td>Empresa B</td><td>2024-01-08</td><td>400</td><td>500</td><td>600</td></tr><tr><td>Empresa B</td><td>2024-01-09</td><td>400</td><td>500</td><td>600</td></tr><tr><td>Empresa B</td><td>2024-01-10</td><td>400</td><td>500</td><td>600</td></tr><tr><td>Empresa B</td><td>2024-01-11</td><td>400</td><td>500</td><td>600</td></tr><tr><td>Empresa C</td><td>2024-01-01</td><td>700</td><td>800</td><td>900</td></tr><tr><td>Empresa C</td><td>2024-01-02</td><td>700</td><td>800</td><td>900</td></tr><tr><td>Empresa C</td><td>2024-01-03</td><td>700</td><td>800</td><td>900</td></tr><tr><td>Empresa C</td><td>2024-01-04</td><td>700</td><td>800</td><td>900</td></tr><tr><td>Empresa C</td><td>2024-01-05</td><td>700</td><td>800</td><td>900</td></tr><tr><td>Empresa C</td><td>2024-01-06</td><td>700</td><td>800</td><td>900</td></tr><tr><td>Empresa C</td><td>2024-01-07</td><td>700</td><td>800</td><td>900</td></tr><tr><td>Empresa C</td><td>2024-01-08</td><td>700</td><td>800</td><td>900</td></tr><tr><td>Empresa C</td><td>2024-01-09</td><td>700</td><td>800</td><td>900</td></tr><tr><td>Empresa C</td><td>2024-01-10</td><td>700</td><td>800</td><td>900</td></tr><tr><td>Empresa C</td><td>2024-01-11</td><td>700</td><td>800</td><td>900</td></tr><tr><td>Empresa D</td><td>2024-01-01</td><td>1000</td><td>1100</td><td>1200</td></tr><tr><td>Empresa D</td><td>2024-01-02</td><td>1000</td><td>1100</td><td>1200</td></tr><tr><td>Empresa D</td><td>2024-01-03</td><td>1000</td><td>1100</td><td>1200</td></tr><tr><td>Empresa D</td><td>2024-01-04</td><td>1000</td><td>1100</td><td>1200</td></tr><tr><td>Empresa D</td><td>2024-01-05</td><td>1000</td><td>1100</td><td>1200</td></tr><tr><td>Empresa D</td><td>2024-01-06</td><td>1000</td><td>1100</td><td>1200</td></tr><tr><td>Empresa D</td><td>2024-01-07</td><td>1000</td><td>1100</td><td>1200</td></tr><tr><td>Empresa D</td><td>2024-01-08</td><td>1000</td><td>1100</td><td>1200</td></tr><tr><td>Empresa D</td><td>2024-01-09</td><td>1000</td><td>1100</td><td>1200</td></tr><tr><td>Empresa D</td><td>2024-01-10</td><td>1000</td><td>1100</td><td>1200</td></tr><tr><td>Empresa D</td><td>2024-01-11</td><td>1000</td><td>1100</td><td>1200</td></tr></tbody></table></div>"
      ]
     },
     "metadata": {
      "application/vnd.databricks.v1+output": {
       "addedWidgets": {},
       "aggData": [],
       "aggError": "",
       "aggOverflow": false,
       "aggSchema": [],
       "aggSeriesLimitReached": false,
       "aggType": "",
       "arguments": {},
       "columnCustomDisplayInfos": {},
       "data": [
        [
         "Empresa A",
         "2024-01-01",
         100,
         200,
         300
        ],
        [
         "Empresa A",
         "2024-01-02",
         100,
         200,
         300
        ],
        [
         "Empresa A",
         "2024-01-03",
         100,
         200,
         300
        ],
        [
         "Empresa A",
         "2024-01-04",
         100,
         200,
         300
        ],
        [
         "Empresa A",
         "2024-01-05",
         100,
         200,
         300
        ],
        [
         "Empresa A",
         "2024-01-06",
         100,
         200,
         300
        ],
        [
         "Empresa A",
         "2024-01-07",
         100,
         200,
         300
        ],
        [
         "Empresa A",
         "2024-01-08",
         100,
         200,
         300
        ],
        [
         "Empresa A",
         "2024-01-09",
         100,
         200,
         300
        ],
        [
         "Empresa A",
         "2024-01-10",
         100,
         200,
         300
        ],
        [
         "Empresa A",
         "2024-01-11",
         100,
         200,
         300
        ],
        [
         "Empresa B",
         "2024-01-01",
         400,
         500,
         600
        ],
        [
         "Empresa B",
         "2024-01-02",
         400,
         500,
         600
        ],
        [
         "Empresa B",
         "2024-01-03",
         400,
         500,
         600
        ],
        [
         "Empresa B",
         "2024-01-04",
         400,
         500,
         600
        ],
        [
         "Empresa B",
         "2024-01-05",
         400,
         500,
         600
        ],
        [
         "Empresa B",
         "2024-01-06",
         400,
         500,
         600
        ],
        [
         "Empresa B",
         "2024-01-07",
         400,
         500,
         600
        ],
        [
         "Empresa B",
         "2024-01-08",
         400,
         500,
         600
        ],
        [
         "Empresa B",
         "2024-01-09",
         400,
         500,
         600
        ],
        [
         "Empresa B",
         "2024-01-10",
         400,
         500,
         600
        ],
        [
         "Empresa B",
         "2024-01-11",
         400,
         500,
         600
        ],
        [
         "Empresa C",
         "2024-01-01",
         700,
         800,
         900
        ],
        [
         "Empresa C",
         "2024-01-02",
         700,
         800,
         900
        ],
        [
         "Empresa C",
         "2024-01-03",
         700,
         800,
         900
        ],
        [
         "Empresa C",
         "2024-01-04",
         700,
         800,
         900
        ],
        [
         "Empresa C",
         "2024-01-05",
         700,
         800,
         900
        ],
        [
         "Empresa C",
         "2024-01-06",
         700,
         800,
         900
        ],
        [
         "Empresa C",
         "2024-01-07",
         700,
         800,
         900
        ],
        [
         "Empresa C",
         "2024-01-08",
         700,
         800,
         900
        ],
        [
         "Empresa C",
         "2024-01-09",
         700,
         800,
         900
        ],
        [
         "Empresa C",
         "2024-01-10",
         700,
         800,
         900
        ],
        [
         "Empresa C",
         "2024-01-11",
         700,
         800,
         900
        ],
        [
         "Empresa D",
         "2024-01-01",
         1000,
         1100,
         1200
        ],
        [
         "Empresa D",
         "2024-01-02",
         1000,
         1100,
         1200
        ],
        [
         "Empresa D",
         "2024-01-03",
         1000,
         1100,
         1200
        ],
        [
         "Empresa D",
         "2024-01-04",
         1000,
         1100,
         1200
        ],
        [
         "Empresa D",
         "2024-01-05",
         1000,
         1100,
         1200
        ],
        [
         "Empresa D",
         "2024-01-06",
         1000,
         1100,
         1200
        ],
        [
         "Empresa D",
         "2024-01-07",
         1000,
         1100,
         1200
        ],
        [
         "Empresa D",
         "2024-01-08",
         1000,
         1100,
         1200
        ],
        [
         "Empresa D",
         "2024-01-09",
         1000,
         1100,
         1200
        ],
        [
         "Empresa D",
         "2024-01-10",
         1000,
         1100,
         1200
        ],
        [
         "Empresa D",
         "2024-01-11",
         1000,
         1100,
         1200
        ]
       ],
       "datasetInfos": [],
       "dbfsResultPath": null,
       "isJsonSchema": true,
       "metadata": {},
       "overflow": false,
       "plotOptions": {
        "customPlotOptions": {},
        "displayType": "table",
        "pivotAggregation": null,
        "pivotColumns": null,
        "xColumns": null,
        "yColumns": null
       },
       "removedWidgets": [],
       "schema": [
        {
         "metadata": "{}",
         "name": "empresa",
         "type": "\"string\""
        },
        {
         "metadata": "{}",
         "name": "data",
         "type": "\"date\""
        },
        {
         "metadata": "{}",
         "name": "dado_a",
         "type": "\"integer\""
        },
        {
         "metadata": "{}",
         "name": "dado_b",
         "type": "\"integer\""
        },
        {
         "metadata": "{}",
         "name": "dado_c",
         "type": "\"integer\""
        }
       ],
       "type": "table"
      }
     },
     "output_type": "display_data"
    }
   ],
   "source": [
    "%sql\n",
    "SELECT * FROM empresa.empresa ORDER BY empresa;"
   ]
  }
 ],
 "metadata": {
  "application/vnd.databricks.v1+notebook": {
   "dashboards": [],
   "environmentMetadata": null,
   "language": "python",
   "notebookMetadata": {
    "mostRecentlyExecutedCommandWithImplicitDF": {
     "commandId": 3676721673442056,
     "dataframes": [
      "_sqldf"
     ]
    },
    "pythonIndentUnit": 4
   },
   "notebookName": "Bloomberg",
   "widgets": {}
  }
 },
 "nbformat": 4,
 "nbformat_minor": 0
}
